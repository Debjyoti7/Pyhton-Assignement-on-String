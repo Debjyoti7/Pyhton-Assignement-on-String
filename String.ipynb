{
 "cells": [
  {
   "cell_type": "markdown",
   "id": "bac061d7-6a24-4d89-be01-622ad2d31f2d",
   "metadata": {},
   "source": [
    "# Q1 How can we store a s1ngle quote (‘) as a str1ng 1n a var1able?"
   ]
  },
  {
   "cell_type": "markdown",
   "id": "4768936a-f363-4d58-9481-7858fb5b9612",
   "metadata": {},
   "source": [
    "## To store a single quote character ('), you can use different approaches depending on the programming language or context you are working with. Here are a few common methods: 1. Escape the single quote: In many programming languages, you can use the backslash () as an escape character to indicate that the following character should be treated as a literal character. To store a single quote as a string, you can escape it using a backslash. For example:\n",
    "## Python: my_variable = '\\'\n",
    "## Use double quotes for the string: Another approach is to use double quotes (\") to define the string literal, which allows the single quote to be used without any special handling. For example:\n",
    "\n",
    "## Python: my_variable = \"'\"\n",
    "## Store the single quote as a character and convert it to a string if needed: Some programming languages have specific data types to represent characters. You can store the single quote as a character and convert it to a string when necessary. For example:\n",
    "\n",
    "## Python: my_variable = ord(\"'\") (To get the character as an integer code) or my_variable = chr(39) (To get the character as a string)\n",
    "\n",
    "## These are some common approaches to store a single quote as a string in a variable. The specific method to use may depend on the programming language and the context in which you need to store the single quote."
   ]
  },
  {
   "cell_type": "markdown",
   "id": "90df3e11-c105-419f-8c3e-9954031e4c36",
   "metadata": {},
   "source": [
    "# Q2. Refer the below var1able:\n",
    "# x = ‘a(\n",
    "# Here, is x a character type or str1ng type var1able? Support your answer w1th an explanat1on."
   ]
  },
  {
   "cell_type": "markdown",
   "id": "d54e11de-9fcc-4833-89bb-2cbd083e1e66",
   "metadata": {},
   "source": [
    "## Based on the provided variable x = 'a(, it appears that x is a string type variable. The presence of the single quotes surrounding the value 'a( indicates that x is a string literal. In many programming languages, single quotes are typically used to define character literals, while double quotes are used for string literals. However, the specific usage of single quotes or double quotes may vary depending on the programming language. In this case, the fact that the value 'a(`` is enclosed in single quotes suggests that it is treated as a string rather than a character. If it were intended to be a character literal, it might be written as x = 'a'orx = '('`, depending on the desired character. Therefore, based on the usage of single quotes and the value assigned to x, it can be inferred that x is a string type variable."
   ]
  },
  {
   "cell_type": "markdown",
   "id": "c00ca6d4-4a8d-4ed2-b3ca-e3ce21b82391",
   "metadata": {},
   "source": [
    "# Q3.Apply the follow1ng funct1ons on th1s var1able: ‘Welcome to Python foundation course'\n",
    "# 1.find()\n",
    "# 2. count()\n",
    "# 3. len()\n",
    "# 4. Concatenation"
   ]
  },
  {
   "cell_type": "code",
   "execution_count": 2,
   "id": "65e80d6a-d61b-4f5b-b6c5-9938dc219a57",
   "metadata": {},
   "outputs": [
    {
     "data": {
      "text/plain": [
       "11"
      ]
     },
     "execution_count": 2,
     "metadata": {},
     "output_type": "execute_result"
    }
   ],
   "source": [
    "x = 'Welcome to Python foundation course'\n",
    "x.find('Python')"
   ]
  },
  {
   "cell_type": "code",
   "execution_count": 6,
   "id": "915bf449-3f0c-42ab-b8bd-a3c693a9cc2a",
   "metadata": {},
   "outputs": [
    {
     "data": {
      "text/plain": [
       "3"
      ]
     },
     "execution_count": 6,
     "metadata": {},
     "output_type": "execute_result"
    }
   ],
   "source": [
    "x.count('t')"
   ]
  },
  {
   "cell_type": "code",
   "execution_count": 9,
   "id": "6277cecb-73ba-4def-911d-6177a7569953",
   "metadata": {},
   "outputs": [
    {
     "data": {
      "text/plain": [
       "35"
      ]
     },
     "execution_count": 9,
     "metadata": {},
     "output_type": "execute_result"
    }
   ],
   "source": [
    "len(x)"
   ]
  },
  {
   "cell_type": "code",
   "execution_count": 10,
   "id": "c77506ef-1405-4ffd-96b0-bc2ee520fa02",
   "metadata": {},
   "outputs": [
    {
     "name": "stdout",
     "output_type": "stream",
     "text": [
      "Welcome to Python foundation course\n"
     ]
    }
   ],
   "source": [
    "words = [\"Welcome\",\"to\", \"Python\", \"foundation\", \"course\"]\n",
    "concat_str = \" \".join(words)\n",
    "print(concat_str)"
   ]
  },
  {
   "cell_type": "markdown",
   "id": "6a8e9652-1062-48a3-8ef0-a04581d8f805",
   "metadata": {},
   "source": [
    "# Q4. For the var1able: word = ‘PanaJi@12256'\n",
    "# Calculate the followings:\n",
    "# 1. Total number of alphabets in lowercase\n",
    "# 2. Total number of alphabets in uppercase\n",
    "# 3. Total number of numer1cal in str1ng"
   ]
  },
  {
   "cell_type": "code",
   "execution_count": 12,
   "id": "0e89d384-0273-442c-8f3f-58035e5ba135",
   "metadata": {},
   "outputs": [
    {
     "name": "stdout",
     "output_type": "stream",
     "text": [
      "4\n"
     ]
    }
   ],
   "source": [
    "word = 'PanaJi@12256'\n",
    "lowercase_count = sum(1 for char in word if char.islower())\n",
    "print(lowercase_count)\n"
   ]
  },
  {
   "cell_type": "code",
   "execution_count": 14,
   "id": "bca98dda-6471-4cba-9952-8dd98cae9b3b",
   "metadata": {},
   "outputs": [
    {
     "name": "stdout",
     "output_type": "stream",
     "text": [
      "2\n"
     ]
    }
   ],
   "source": [
    "word = 'PanaJi@12256'\n",
    "uppercase_count = sum(1 for char in word if char.isupper())\n",
    "print(uppercase_count)\n"
   ]
  },
  {
   "cell_type": "code",
   "execution_count": 15,
   "id": "90604343-9341-4d33-9310-7a45e75d14f8",
   "metadata": {},
   "outputs": [
    {
     "name": "stdout",
     "output_type": "stream",
     "text": [
      "5\n"
     ]
    }
   ],
   "source": [
    "word = 'PanaJi@12256'\n",
    "numeric_count = sum(1 for char in word if char.isdigit())\n",
    "print(numeric_count)\n"
   ]
  },
  {
   "cell_type": "markdown",
   "id": "45a6b140-d95d-489d-b84a-d8de49275c02",
   "metadata": {},
   "source": [
    "# Q5 Wr1te a code to store a numer1cal value inside a variable then convert it 1nto string."
   ]
  },
  {
   "cell_type": "code",
   "execution_count": 16,
   "id": "1fd44d1c-d52a-4c5f-b374-5d0dc09d182e",
   "metadata": {},
   "outputs": [
    {
     "name": "stdout",
     "output_type": "stream",
     "text": [
      "num = 42\n",
      "Type of num: <class 'int'>\n",
      "num_str = 42\n",
      "Type of num_str: <class 'str'>\n"
     ]
    }
   ],
   "source": [
    "# Storing a numerical value in a variable\n",
    "num = 42\n",
    "print(\"num =\", num)\n",
    "print(\"Type of num:\", type(num))\n",
    "\n",
    "# Converting the numerical value to a string\n",
    "num_str = str(num)\n",
    "print(\"num_str =\", num_str)\n",
    "print(\"Type of num_str:\", type(num_str))\n"
   ]
  },
  {
   "cell_type": "code",
   "execution_count": null,
   "id": "ff3d76e8-fd48-4936-991e-c9994ab37629",
   "metadata": {},
   "outputs": [],
   "source": []
  }
 ],
 "metadata": {
  "kernelspec": {
   "display_name": "Python 3 (ipykernel)",
   "language": "python",
   "name": "python3"
  },
  "language_info": {
   "codemirror_mode": {
    "name": "ipython",
    "version": 3
   },
   "file_extension": ".py",
   "mimetype": "text/x-python",
   "name": "python",
   "nbconvert_exporter": "python",
   "pygments_lexer": "ipython3",
   "version": "3.10.8"
  }
 },
 "nbformat": 4,
 "nbformat_minor": 5
}
